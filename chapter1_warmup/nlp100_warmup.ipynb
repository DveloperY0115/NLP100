{
 "cells": [
  {
   "cell_type": "code",
   "execution_count": 6,
   "metadata": {},
   "outputs": [
    {
     "name": "stdout",
     "output_type": "stream",
     "text": [
      "desserts\n"
     ]
    }
   ],
   "source": [
    "# Problem 0\n",
    "string = 'stressed'\n",
    "\n",
    "# divide each characters to list\n",
    "str_to_list = list(string)\n",
    "\n",
    "# reverse the list\n",
    "str_to_list = reversed(str_to_list)\n",
    "\n",
    "# join the element to generate a string\n",
    "string = ''.join(str_to_list)\n",
    "\n",
    "print(string)"
   ]
  },
  {
   "cell_type": "code",
   "execution_count": 7,
   "metadata": {
    "pycharm": {
     "name": "#%%\n"
    }
   },
   "outputs": [
    {
     "name": "stdout",
     "output_type": "stream",
     "text": [
      "shoe\n"
     ]
    }
   ],
   "source": [
    "# Problem 1\n",
    "string = 'schooled'\n",
    "\n",
    "str_to_list = list(string)\n",
    "\n",
    "indices = [0, 2, 4, 6]\n",
    "\n",
    "target_char = [str_to_list[i] for i in indices]\n",
    "\n",
    "string = ''.join(target_char)\n",
    "\n",
    "print(string)"
   ]
  },
  {
   "cell_type": "code",
   "execution_count": 8,
   "metadata": {
    "pycharm": {
     "name": "#%%\n"
    }
   },
   "outputs": [
    {
     "name": "stdout",
     "output_type": "stream",
     "text": [
      "schooled\n"
     ]
    }
   ],
   "source": [
    "# Problem 2\n",
    "\n",
    "string_1 = 'shoe'\n",
    "string_2 = 'cold'\n",
    "\n",
    "string_1 = list(string_1)\n",
    "string_2 = list(string_2)\n",
    "\n",
    "result = []\n",
    "\n",
    "for i in range(len(string_1)):\n",
    "    result.append(string_1[i])\n",
    "    result.append(string_2[i])\n",
    "result = ''.join(result)\n",
    "\n",
    "print(result)"
   ]
  },
  {
   "cell_type": "code",
   "execution_count": 11,
   "metadata": {
    "pycharm": {
     "name": "#%%\n"
    }
   },
   "outputs": [
    {
     "name": "stdout",
     "output_type": "stream",
     "text": [
      "[{'N': 1, 'o': 1, 'w': 1}, {'I': 1}, {'n': 1, 'e': 2, 'd': 1}, {'a': 1}, {'d': 1, 'r': 1, 'i': 1, 'n': 1, 'k': 1, ',': 1}, {'a': 1, 'l': 2, 'c': 2, 'o': 2, 'h': 1, 'i': 1}, {'o': 1, 'f': 1}, {'c': 1, 'o': 1, 'u': 1, 'r': 1, 's': 1, 'e': 1, ',': 1}, {'a': 1, 'f': 1, 't': 1, 'e': 1, 'r': 1}, {'t': 1, 'h': 1, 'e': 1}, {'h': 1, 'e': 1, 'a': 1, 'v': 1, 'y': 1}, {'l': 1, 'e': 2, 'c': 1, 't': 1, 'u': 1, 'r': 1, 's': 1}, {'i': 2, 'n': 2, 'v': 2, 'o': 1, 'l': 1, 'g': 1}, {'q': 1, 'u': 2, 'a': 1, 'n': 1, 't': 1, 'm': 1}, {'m': 1, 'e': 1, 'c': 2, 'h': 1, 'a': 1, 'n': 1, 'i': 1, 's': 1}]\n"
     ]
    }
   ],
   "source": [
    "# Problem 3\n",
    "\n",
    "string = 'Now I need a drink, alcoholic of course, after the heavy lectures involving quantum mechanics'\n",
    "\n",
    "str_to_list = string.split(' ')\n",
    "\n",
    "def count_words(word):\n",
    "    result = {}\n",
    "    \n",
    "    for i in range(len(word)):\n",
    "        \n",
    "        if word[i] not in result:\n",
    "            result[word[i]] = 0\n",
    "        result[word[i]] += 1\n",
    "    \n",
    "    return result\n",
    "        \n",
    "char_count_for_each = []\n",
    "for word in str_to_list:\n",
    "    count = count_words(word)\n",
    "    char_count_for_each.append(count)\n",
    "    \n",
    "print(char_count_for_each)"
   ]
  },
  {
   "cell_type": "code",
   "execution_count": 17,
   "metadata": {},
   "outputs": [
    {
     "name": "stdout",
     "output_type": "stream",
     "text": [
      "20\n"
     ]
    },
    {
     "data": {
      "text/plain": [
       "[1, 2, 3, 9, 10, 11, 12, 13, 16, 17, 19]"
      ]
     },
     "execution_count": 17,
     "metadata": {},
     "output_type": "execute_result"
    }
   ],
   "source": [
    "# Problem 4\n",
    "\n",
    "string = 'Hi He Lied Because Boron Could Not Oxidize Fluorine. New Nations Might Also Sign Peace Security Clause. Arthur King Can'\n",
    "\n",
    "str_to_list = string.split(' ')\n",
    "\n",
    "print(len(str_to_list))\n",
    "\n",
    "target_one_letter_indices = [0, 4, 5, 6, 7, 8, 14, 15, 18]\n",
    "target_two_letters_indices = [i for i in range(len(str_to_list)) if i not in target_one_letter]\n",
    "\n",
    "first_letter = "
   ]
  },
  {
   "cell_type": "code",
   "execution_count": 28,
   "metadata": {},
   "outputs": [
    {
     "name": "stdout",
     "output_type": "stream",
     "text": [
      "['I am', 'am an', 'an NLPer']\n",
      "['I  ', '  a', 'a m', 'm  ', '  a', 'a n', 'n  ', '  N', 'N L', 'L P', 'P e', 'e r']\n"
     ]
    }
   ],
   "source": [
    "# Problem 5\n",
    "\n",
    "string = \"I am an NLPer\"\n",
    "\n",
    "string_split_by_word = string.split(' ')\n",
    "string_split_by_letter = list(string)\n",
    "\n",
    "def get_ngrams(string_list, n):\n",
    "    result = []\n",
    "    list_len = len(string_list)\n",
    "    last_index = list_len - (n - 1)\n",
    "    \n",
    "    for i in range(last_index):\n",
    "        temp = []\n",
    "        for j in range(n):\n",
    "            temp.append(string_list[i+j])\n",
    "        result.append(' '.join(temp))\n",
    "    return result\n",
    "    \n",
    "print(get_ngrams(string_split_by_word, 2))\n",
    "print(get_ngrams(string_split_by_letter, 2))"
   ]
  },
  {
   "cell_type": "code",
   "execution_count": 32,
   "metadata": {},
   "outputs": [
    {
     "name": "stdout",
     "output_type": "stream",
     "text": [
      "{'a r', 'r a', 'a p', 'p a'}\n",
      "{'a d', 'p h', 'i s', 'a r', 'd i', 'a g', 'a p', 's e', 'p a', 'r a', 'g r'}\n",
      "{'a d', 'i s', 's e', 'd i'}\n"
     ]
    }
   ],
   "source": [
    "# Problem 6\n",
    "\n",
    "string_1 = 'paraparaparadise'\n",
    "string_2 = 'paragraph'\n",
    "\n",
    "string_1 = list(string_1)\n",
    "string_2 = list(string_2)\n",
    "\n",
    "str_1_bigram = get_ngrams(string_1, 2)\n",
    "str_2_bigram = get_ngrams(string_2, 2)\n",
    "\n",
    "str_1_bigram = set(str_1_bigram)\n",
    "str_2_bigram = set(str_2_bigram)\n",
    "\n",
    "and_set = str_1_bigram & str_2_bigram\n",
    "union_set = str_1_bigram | str_2_bigram\n",
    "diff_set = str_1_bigram - str_2_bigram\n",
    "\n",
    "print(and_set)\n",
    "print(union_set)\n",
    "print(diff_set)"
   ]
  },
  {
   "cell_type": "code",
   "execution_count": 34,
   "metadata": {},
   "outputs": [
    {
     "name": "stdout",
     "output_type": "stream",
     "text": [
      "temperature is 22.4 at 12\n"
     ]
    }
   ],
   "source": [
    "# Problem 7\n",
    "\n",
    "def formatter(x, y, z):\n",
    "    return str(y) + ' is ' + str(z) + ' at ' + str(x)\n",
    "\n",
    "print(formatter(12, 'temperature', 22.4))"
   ]
  },
  {
   "cell_type": "code",
   "execution_count": 38,
   "metadata": {},
   "outputs": [
    {
     "name": "stdout",
     "output_type": "stream",
     "text": [
      "xipher xipher\n"
     ]
    }
   ],
   "source": [
    "# Problem 8\n",
    "\n",
    "def cipher(string):\n",
    "    \n",
    "    len_string = len(string)\n",
    "    result = [chr(219 - ord(string[i])) if string[i] == 'c' else string[i] for i in range(len_string)]\n",
    "    return ''.join(result)\n",
    "\n",
    "example = 'cipher'\n",
    "ciphered = cipher(example)\n",
    "deciphered = cipher(ciphered)\n",
    "print(ciphered, deciphered)"
   ]
  },
  {
   "cell_type": "code",
   "execution_count": 48,
   "metadata": {},
   "outputs": [
    {
     "name": "stdout",
     "output_type": "stream",
     "text": [
      "I c’ndluot blievee that I colud aaltlcuy uantdernsd what I was rdeaing : the paeemnhnol pewor of the haumn mind\n"
     ]
    }
   ],
   "source": [
    "# Problem 9\n",
    "\n",
    "import random\n",
    "string = 'I couldn’t believe that I could actually understand what I was reading : the phenomenal power of the human mind'\n",
    "\n",
    "words = string.split(' ')\n",
    "\n",
    "result = []\n",
    "\n",
    "for word in words:\n",
    "    if len(word) <= 4:\n",
    "        result.append(word)\n",
    "    else:\n",
    "        word_to_list = list(word)[1:-1]\n",
    "        word_to_list = random.sample(word_to_list, len(word_to_list))\n",
    "        temp = []\n",
    "        temp.append(word[0])\n",
    "        \n",
    "        for character in word_to_list:\n",
    "            temp.append(character)\n",
    "            \n",
    "        temp.append(word[-1])    \n",
    "        result.append(''.join(temp))\n",
    "    \n",
    "print(' '.join(result))"
   ]
  },
  {
   "cell_type": "code",
   "execution_count": null,
   "metadata": {},
   "outputs": [],
   "source": []
  }
 ],
 "metadata": {
  "kernelspec": {
   "display_name": "Python 3",
   "language": "python",
   "name": "python3"
  },
  "language_info": {
   "codemirror_mode": {
    "name": "ipython",
    "version": 3
   },
   "file_extension": ".py",
   "mimetype": "text/x-python",
   "name": "python",
   "nbconvert_exporter": "python",
   "pygments_lexer": "ipython3",
   "version": "3.7.4"
  }
 },
 "nbformat": 4,
 "nbformat_minor": 1
}